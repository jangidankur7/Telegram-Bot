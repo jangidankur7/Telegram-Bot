{
 "cells": [
  {
   "cell_type": "markdown",
   "metadata": {},
   "source": [
    "## loging module  - Enable logging"
   ]
  },
  {
   "cell_type": "code",
   "execution_count": 1,
   "metadata": {},
   "outputs": [],
   "source": [
    "## used to show logs like time at which login , any info or error or warnings"
   ]
  },
  {
   "cell_type": "code",
   "execution_count": 1,
   "metadata": {},
   "outputs": [
    {
     "ename": "ModuleNotFoundError",
     "evalue": "No module named 'telegram'",
     "output_type": "error",
     "traceback": [
      "\u001b[1;31m---------------------------------------------------------------------------\u001b[0m",
      "\u001b[1;31mModuleNotFoundError\u001b[0m                       Traceback (most recent call last)",
      "\u001b[1;32m<ipython-input-1-938c1bca1b1e>\u001b[0m in \u001b[0;36m<module>\u001b[1;34m\u001b[0m\n\u001b[0;32m      1\u001b[0m \u001b[1;32mimport\u001b[0m \u001b[0mlogging\u001b[0m\u001b[1;33m\u001b[0m\u001b[1;33m\u001b[0m\u001b[0m\n\u001b[1;32m----> 2\u001b[1;33m \u001b[1;32mfrom\u001b[0m \u001b[0mtelegram\u001b[0m\u001b[1;33m.\u001b[0m\u001b[0mext\u001b[0m \u001b[1;32mimport\u001b[0m \u001b[0mUpdater\u001b[0m\u001b[1;33m,\u001b[0m\u001b[0mCommandHandler\u001b[0m\u001b[1;33m,\u001b[0m\u001b[0mMessageHandler\u001b[0m \u001b[1;33m,\u001b[0m \u001b[0mFilters\u001b[0m\u001b[1;33m\u001b[0m\u001b[1;33m\u001b[0m\u001b[0m\n\u001b[0m\u001b[0;32m      3\u001b[0m \u001b[1;33m\u001b[0m\u001b[0m\n\u001b[0;32m      4\u001b[0m \u001b[1;33m\u001b[0m\u001b[0m\n\u001b[0;32m      5\u001b[0m logging.basicConfig(format='%(asctime)s - %(name)s - %(levelname)s - %(message)s',\n",
      "\u001b[1;31mModuleNotFoundError\u001b[0m: No module named 'telegram'"
     ]
    }
   ],
   "source": [
    "import logging\n",
    "from telegram.ext import Updater,CommandHandler,MessageHandler , Filters\n",
    "\n",
    "\n",
    "logging.basicConfig(format='%(asctime)s - %(name)s - %(levelname)s - %(message)s',\n",
    "                    level=logging.INFO)\n",
    "\n",
    "logger = logging.getLogger(__name__)\n",
    "\n",
    "TOKEN = \"1324381702:AAEQXMQCOhrocov92wmq0J3gbq9Jrxnjp9I\"  ##generated through rquest made by telegram.exe (BotFather)\n",
    "\n",
    "def start(bot,update) :\n",
    "    print(update)\n",
    "    author = update.message.from_user.first_name\n",
    "    msg = update.message.text\n",
    "    reply = \"Hi , Ankur this side {}\".format(author)\n",
    "    bot.send_message(chat_id = update.message.chat_id,text = reply)\n",
    "    \n",
    "\n",
    "def _help(bot,update) :\n",
    "    \n",
    "    help_txt = \"Hey,you want help ?\"\n",
    "    bot.send_message(chat_id = update.message.chat_id,text = help_txt)\n",
    "    \n",
    "def echo_text(bot,update) :\n",
    "    reply = update.message.text\n",
    "    bot.send_message(chat_id = update.message.chat_id,text = reply)\n",
    "\n",
    "def echo_sticker(bot,update) :\n",
    "    bot.send_sticker(chat_id = update.message.chat_id,sticker = update.message.sticker.file_id)\n",
    "    \n",
    "def error(bot,update) :\n",
    "    logger.error(\"Update '%s' caused error '%s'\",update,update.error)\n",
    "    \n",
    "def    main():\n",
    "    \n",
    "    updater = Updater(TOKEN)\n",
    "\n",
    "    dp = updater.dispatcher\n",
    "    \n",
    "    dp.add_handler(CommandHandler(\"start\",start))\n",
    "    dp.add_handler(CommandHandler(\"help\",help))\n",
    "    dp.add_handler(MessageHandler(Filters.text,echo_text))\n",
    "    dp.add_handler(MessageHandler(Filters.sticker,echo_sticker))\n",
    "    dp.add_error_handler(error)\n",
    "    \n",
    "    \n",
    "    updater.start_polling()\n",
    "    logger.info(\"Started polling . . .\")\n",
    "    updater.idle()\n",
    "\n",
    "\n",
    "if __name__ == \"__main__\" :\n",
    "    \n",
    "    main()\n",
    "\n",
    "\n",
    "\n",
    "\n"
   ]
  },
  {
   "cell_type": "markdown",
   "metadata": {},
   "source": []
  },
  {
   "cell_type": "code",
   "execution_count": null,
   "metadata": {},
   "outputs": [],
   "source": []
  },
  {
   "cell_type": "code",
   "execution_count": null,
   "metadata": {},
   "outputs": [],
   "source": [
    "## Use python telegram documentation (https://python-telegram-bot.readthedocs.io/en/stable/)"
   ]
  }
 ],
 "metadata": {
  "kernelspec": {
   "display_name": "Python 3",
   "language": "python",
   "name": "python3"
  },
  "language_info": {
   "codemirror_mode": {
    "name": "ipython",
    "version": 3
   },
   "file_extension": ".py",
   "mimetype": "text/x-python",
   "name": "python",
   "nbconvert_exporter": "python",
   "pygments_lexer": "ipython3",
   "version": "3.8.3"
  }
 },
 "nbformat": 4,
 "nbformat_minor": 4
}
