{
 "cells": [
  {
   "cell_type": "code",
   "execution_count": 8,
   "metadata": {},
   "outputs": [
    {
     "name": "stdout",
     "output_type": "stream",
     "text": [
      "Requirement already satisfied: dialogflow in /home/ankur/anaconda3/lib/python3.8/site-packages (1.1.0)\n",
      "Requirement already satisfied: google-api-core[grpc]<2.0.0dev,>=1.14.0 in /home/ankur/anaconda3/lib/python3.8/site-packages (from dialogflow) (1.23.0)\n",
      "Requirement already satisfied: googleapis-common-protos<2.0dev,>=1.6.0 in /home/ankur/anaconda3/lib/python3.8/site-packages (from google-api-core[grpc]<2.0.0dev,>=1.14.0->dialogflow) (1.52.0)\n",
      "Requirement already satisfied: requests<3.0.0dev,>=2.18.0 in /home/ankur/anaconda3/lib/python3.8/site-packages (from google-api-core[grpc]<2.0.0dev,>=1.14.0->dialogflow) (2.24.0)\n",
      "Requirement already satisfied: setuptools>=34.0.0 in /home/ankur/anaconda3/lib/python3.8/site-packages (from google-api-core[grpc]<2.0.0dev,>=1.14.0->dialogflow) (49.2.0.post20200714)\n",
      "Requirement already satisfied: pytz in /home/ankur/anaconda3/lib/python3.8/site-packages (from google-api-core[grpc]<2.0.0dev,>=1.14.0->dialogflow) (2020.1)\n",
      "Requirement already satisfied: google-auth<2.0dev,>=1.21.1 in /home/ankur/anaconda3/lib/python3.8/site-packages (from google-api-core[grpc]<2.0.0dev,>=1.14.0->dialogflow) (1.22.1)\n",
      "Requirement already satisfied: protobuf>=3.12.0 in /home/ankur/anaconda3/lib/python3.8/site-packages (from google-api-core[grpc]<2.0.0dev,>=1.14.0->dialogflow) (3.13.0)\n",
      "Requirement already satisfied: six>=1.13.0 in /home/ankur/anaconda3/lib/python3.8/site-packages (from google-api-core[grpc]<2.0.0dev,>=1.14.0->dialogflow) (1.15.0)\n",
      "Requirement already satisfied: grpcio<2.0dev,>=1.29.0; extra == \"grpc\" in /home/ankur/anaconda3/lib/python3.8/site-packages (from google-api-core[grpc]<2.0.0dev,>=1.14.0->dialogflow) (1.33.1)\n",
      "Requirement already satisfied: urllib3!=1.25.0,!=1.25.1,<1.26,>=1.21.1 in /home/ankur/anaconda3/lib/python3.8/site-packages (from requests<3.0.0dev,>=2.18.0->google-api-core[grpc]<2.0.0dev,>=1.14.0->dialogflow) (1.25.9)\n",
      "Requirement already satisfied: idna<3,>=2.5 in /home/ankur/anaconda3/lib/python3.8/site-packages (from requests<3.0.0dev,>=2.18.0->google-api-core[grpc]<2.0.0dev,>=1.14.0->dialogflow) (2.10)\n",
      "Requirement already satisfied: certifi>=2017.4.17 in /home/ankur/anaconda3/lib/python3.8/site-packages (from requests<3.0.0dev,>=2.18.0->google-api-core[grpc]<2.0.0dev,>=1.14.0->dialogflow) (2020.6.20)\n",
      "Requirement already satisfied: chardet<4,>=3.0.2 in /home/ankur/anaconda3/lib/python3.8/site-packages (from requests<3.0.0dev,>=2.18.0->google-api-core[grpc]<2.0.0dev,>=1.14.0->dialogflow) (3.0.4)\n",
      "Requirement already satisfied: rsa<5,>=3.1.4; python_version >= \"3.5\" in /home/ankur/anaconda3/lib/python3.8/site-packages (from google-auth<2.0dev,>=1.21.1->google-api-core[grpc]<2.0.0dev,>=1.14.0->dialogflow) (4.6)\n",
      "Requirement already satisfied: cachetools<5.0,>=2.0.0 in /home/ankur/anaconda3/lib/python3.8/site-packages (from google-auth<2.0dev,>=1.21.1->google-api-core[grpc]<2.0.0dev,>=1.14.0->dialogflow) (4.1.1)\n",
      "Requirement already satisfied: pyasn1-modules>=0.2.1 in /home/ankur/anaconda3/lib/python3.8/site-packages (from google-auth<2.0dev,>=1.21.1->google-api-core[grpc]<2.0.0dev,>=1.14.0->dialogflow) (0.2.8)\n",
      "Requirement already satisfied: pyasn1>=0.1.3 in /home/ankur/anaconda3/lib/python3.8/site-packages (from rsa<5,>=3.1.4; python_version >= \"3.5\"->google-auth<2.0dev,>=1.21.1->google-api-core[grpc]<2.0.0dev,>=1.14.0->dialogflow) (0.4.8)\n",
      "Note: you may need to restart the kernel to use updated packages.\n"
     ]
    }
   ],
   "source": [
    "pip install dialogflow\n"
   ]
  },
  {
   "cell_type": "code",
   "execution_count": 3,
   "metadata": {},
   "outputs": [
    {
     "ename": "NameError",
     "evalue": "name 'langauge_code' is not defined",
     "output_type": "error",
     "traceback": [
      "\u001b[0;31m---------------------------------------------------------------------------\u001b[0m",
      "\u001b[0;31mNameError\u001b[0m                                 Traceback (most recent call last)",
      "\u001b[0;32m<ipython-input-3-59db65fde850>\u001b[0m in \u001b[0;36m<module>\u001b[0;34m\u001b[0m\n\u001b[1;32m     34\u001b[0m \u001b[0;34m\u001b[0m\u001b[0m\n\u001b[1;32m     35\u001b[0m \u001b[0;34m\u001b[0m\u001b[0m\n\u001b[0;32m---> 36\u001b[0;31m \u001b[0mresponse\u001b[0m \u001b[0;34m=\u001b[0m \u001b[0mdetect_intent_from_text\u001b[0m\u001b[0;34m(\u001b[0m\u001b[0;34m\"sow me sports news in hindi\"\u001b[0m\u001b[0;34m,\u001b[0m\u001b[0;36m123\u001b[0m\u001b[0;34m)\u001b[0m   \u001b[0;31m##(text,id(for multiple requests from different users))\u001b[0m\u001b[0;34m\u001b[0m\u001b[0;34m\u001b[0m\u001b[0m\n\u001b[0m\u001b[1;32m     37\u001b[0m \u001b[0;34m\u001b[0m\u001b[0m\n\u001b[1;32m     38\u001b[0m \u001b[0;34m\u001b[0m\u001b[0m\n",
      "\u001b[0;32m<ipython-input-3-59db65fde850>\u001b[0m in \u001b[0;36mdetect_intent_from_text\u001b[0;34m(text, session_id, language_code)\u001b[0m\n\u001b[1;32m     28\u001b[0m \u001b[0;34m\u001b[0m\u001b[0m\n\u001b[1;32m     29\u001b[0m     \u001b[0msession\u001b[0m \u001b[0;34m=\u001b[0m \u001b[0mdialogflow_session_client\u001b[0m\u001b[0;34m.\u001b[0m\u001b[0msession_path\u001b[0m\u001b[0;34m(\u001b[0m\u001b[0mPROJECT_ID\u001b[0m\u001b[0;34m,\u001b[0m\u001b[0msession_id\u001b[0m\u001b[0;34m)\u001b[0m\u001b[0;34m\u001b[0m\u001b[0;34m\u001b[0m\u001b[0m\n\u001b[0;32m---> 30\u001b[0;31m     \u001b[0mtext_input\u001b[0m \u001b[0;34m=\u001b[0m \u001b[0mdialogflow\u001b[0m\u001b[0;34m.\u001b[0m\u001b[0mtypes\u001b[0m\u001b[0;34m.\u001b[0m\u001b[0mTextInput\u001b[0m\u001b[0;34m(\u001b[0m\u001b[0mtext\u001b[0m \u001b[0;34m=\u001b[0m \u001b[0mtext\u001b[0m\u001b[0;34m,\u001b[0m\u001b[0mlangauge_code\u001b[0m \u001b[0;34m=\u001b[0m \u001b[0mlangauge_code\u001b[0m\u001b[0;34m)\u001b[0m\u001b[0;34m\u001b[0m\u001b[0;34m\u001b[0m\u001b[0m\n\u001b[0m\u001b[1;32m     31\u001b[0m     \u001b[0mquery_input\u001b[0m \u001b[0;34m=\u001b[0m \u001b[0mdialogflow\u001b[0m\u001b[0;34m.\u001b[0m\u001b[0mtypes\u001b[0m\u001b[0;34m.\u001b[0m\u001b[0mQuery_Input\u001b[0m\u001b[0;34m(\u001b[0m\u001b[0mtext\u001b[0m \u001b[0;34m=\u001b[0m \u001b[0mtext_input\u001b[0m\u001b[0;34m)\u001b[0m\u001b[0;34m\u001b[0m\u001b[0;34m\u001b[0m\u001b[0m\n\u001b[1;32m     32\u001b[0m     \u001b[0mresponse\u001b[0m \u001b[0;34m=\u001b[0m \u001b[0mdialogflow_session_client\u001b[0m\u001b[0;34m.\u001b[0m\u001b[0mdetect_intent\u001b[0m\u001b[0;34m(\u001b[0m\u001b[0msession\u001b[0m \u001b[0;34m=\u001b[0m \u001b[0msession\u001b[0m\u001b[0;34m,\u001b[0m\u001b[0mquery_input\u001b[0m \u001b[0;34m=\u001b[0m \u001b[0mquery_input\u001b[0m\u001b[0;34m)\u001b[0m\u001b[0;34m\u001b[0m\u001b[0;34m\u001b[0m\u001b[0m\n",
      "\u001b[0;31mNameError\u001b[0m: name 'langauge_code' is not defined"
     ]
    }
   ],
   "source": [
    "## dialoge flow usage in this project\n",
    "\n",
    "\n",
    " #1. First we used dialogflow to extract phrases \n",
    " #2. Then from google cloud, we generated an API key for it\n",
    "#3. pip install dialogflow\n",
    "\n",
    "\n",
    "import os\n",
    "os.environ[\"GOOGLE_APPLICATION_CREDENTIALS\"] = \"client.json\"\n",
    "\n",
    "import dialogflow_v2 as dialogflow\n",
    "import dialogflow as dialgogflow\n",
    "\n",
    "from dialogflow_v2 import AgentsClient\n",
    "from dialogflow_v2 import ContextsClient\n",
    "from dialogflow_v2 import EntityTypesClient\n",
    "from dialogflow_v2 import IntentsClient\n",
    "from dialogflow_v2 import SessionEntityTypesClient\n",
    "from dialogflow_v2 import SessionsClient\n",
    "from dialogflow_v2 import enums\n",
    "from dialogflow_v2 import types\n",
    "\n",
    "dialogflow_session_client = dialogflow.SessionsClient()\n",
    "PROJECT_ID = \"conversationbot-ejxy\"\n",
    "\n",
    "def detect_intent_from_text(text,session_id,language_code = 'en'):\n",
    "\n",
    "    session = dialogflow_session_client.session_path(PROJECT_ID,session_id)\n",
    "    text_input = dialogflow.types.TextInput(text = text,langauge_code = langauge_code)\n",
    "    query_input = dialogflow.types.Query_Input(text = text_input)\n",
    "    response = dialogflow_session_client.detect_intent(session = session,query_input = query_input)\n",
    "    return response.query_result\n",
    "\n",
    "\n",
    "response = detect_intent_from_text(\"sow me sports news in hindi\",123)   ##(text,id(for multiple requests from different users))\n",
    "\n",
    "\n"
   ]
  },
  {
   "cell_type": "code",
   "execution_count": null,
   "metadata": {},
   "outputs": [],
   "source": []
  }
 ],
 "metadata": {
  "kernelspec": {
   "display_name": "Python 3",
   "language": "python",
   "name": "python3"
  },
  "language_info": {
   "codemirror_mode": {
    "name": "ipython",
    "version": 3
   },
   "file_extension": ".py",
   "mimetype": "text/x-python",
   "name": "python",
   "nbconvert_exporter": "python",
   "pygments_lexer": "ipython3",
   "version": "3.8.3"
  }
 },
 "nbformat": 4,
 "nbformat_minor": 4
}
